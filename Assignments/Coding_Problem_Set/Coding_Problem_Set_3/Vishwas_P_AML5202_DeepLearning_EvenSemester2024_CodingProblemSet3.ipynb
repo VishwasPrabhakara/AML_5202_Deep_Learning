{
  "cells": [
    {
      "cell_type": "code",
      "execution_count": 1,
      "metadata": {
        "id": "5dEgRpy3952M"
      },
      "outputs": [
        {
          "name": "stdout",
          "output_type": "stream",
          "text": [
            "WARNING:tensorflow:From c:\\Users\\vp140\\.conda\\envs\\pycaretenv\\lib\\site-packages\\keras\\src\\losses.py:2976: The name tf.losses.sparse_softmax_cross_entropy is deprecated. Please use tf.compat.v1.losses.sparse_softmax_cross_entropy instead.\n",
            "\n"
          ]
        }
      ],
      "source": [
        "## Load libraries\n",
        "import pandas as pd\n",
        "import numpy as np\n",
        "import sys\n",
        "import matplotlib.pyplot as plt\n",
        "import matplotlib.cm as cm\n",
        "from keras.datasets import mnist\n",
        "plt.style.use('dark_background')\n",
        "%matplotlib inline"
      ]
    },
    {
      "cell_type": "code",
      "execution_count": 2,
      "metadata": {
        "id": "G9W_1_v_6yq7"
      },
      "outputs": [],
      "source": [
        "np.set_printoptions(precision=2)"
      ]
    },
    {
      "cell_type": "code",
      "execution_count": 3,
      "metadata": {
        "id": "4T7eUtw7Mh0z"
      },
      "outputs": [],
      "source": [
        "import tensorflow as tf"
      ]
    },
    {
      "cell_type": "code",
      "execution_count": 4,
      "metadata": {
        "id": "Q1e2N5S8MlCU"
      },
      "outputs": [
        {
          "data": {
            "text/plain": [
              "'2.15.0'"
            ]
          },
          "execution_count": 4,
          "metadata": {},
          "output_type": "execute_result"
        }
      ],
      "source": [
        "tf.__version__"
      ]
    },
    {
      "cell_type": "markdown",
      "metadata": {
        "id": "16BpVeIWIOks"
      },
      "source": [
        "---\n",
        "\n",
        "Load MNIST Data\n",
        "\n",
        "---"
      ]
    },
    {
      "cell_type": "code",
      "execution_count": 5,
      "metadata": {
        "id": "E5kaKFKSIQgu"
      },
      "outputs": [
        {
          "name": "stdout",
          "output_type": "stream",
          "text": [
            "MNIST set\n",
            "---------------------\n",
            "Number of training samples = 60000\n",
            "Number of features = 784\n",
            "Number of output labels = 10\n"
          ]
        }
      ],
      "source": [
        "## Load MNIST data\n",
        "(X_train, y_train), (X_test, y_test) = mnist.load_data()\n",
        "X_train = X_train.transpose(1, 2, 0)\n",
        "X_test = X_test.transpose(1, 2, 0)\n",
        "X_train = X_train.reshape(X_train.shape[0]*X_train.shape[1], X_train.shape[2])\n",
        "X_test = X_test.reshape(X_test.shape[0]*X_test.shape[1], X_test.shape[2])\n",
        "\n",
        "num_labels = len(np.unique(y_train))\n",
        "num_features = X_train.shape[0]\n",
        "num_samples = X_train.shape[1]\n",
        "\n",
        "# One-hot encode class labels\n",
        "Y_train = tf.keras.utils.to_categorical(y_train).T\n",
        "Y_test = tf.keras.utils.to_categorical(y_test).T\n",
        "\n",
        "\n",
        "# Normalize the samples (images)\n",
        "xmax = np.amax(X_train)\n",
        "xmin = np.amin(X_train)\n",
        "X_train = (X_train - xmin) / (xmax - xmin) # all train features turn into a number between 0 and 1\n",
        "X_test = (X_test - xmin)/(xmax - xmin)\n",
        "\n",
        "print('MNIST set')\n",
        "print('---------------------')\n",
        "print('Number of training samples = %d'%(num_samples))\n",
        "print('Number of features = %d'%(num_features))\n",
        "print('Number of output labels = %d'%(num_labels))"
      ]
    },
    {
      "cell_type": "markdown",
      "metadata": {
        "id": "IrXipxwrJ0_8"
      },
      "source": [
        "---\n",
        "\n",
        "A generic layer class with forward and backward methods\n",
        "\n",
        "----"
      ]
    },
    {
      "cell_type": "code",
      "execution_count": 6,
      "metadata": {
        "id": "N4pKUhCyMrWm"
      },
      "outputs": [],
      "source": [
        "class Layer:\n",
        "  def __init__(self):\n",
        "    self.input = None\n",
        "    self.output = None\n",
        "\n",
        "  def forward(self, input):\n",
        "    pass\n",
        "\n",
        "  def backward(self, output_gradient, learning_rate):\n",
        "    pass"
      ]
    },
    {
      "cell_type": "markdown",
      "metadata": {
        "id": "UMt81Faf9-bf"
      },
      "source": [
        "---\n",
        "\n",
        "CCE loss and its gradient\n",
        "\n",
        "---"
      ]
    },
    {
      "cell_type": "code",
      "execution_count": 7,
      "metadata": {
        "id": "hdXSGW2s7zKd"
      },
      "outputs": [],
      "source": [
        "## Define the loss function and its gradient\n",
        "def cce(Y, Yhat):\n",
        "  return(np.mean(np.sum(-Y*np.log(Yhat), axis = 0)))\n",
        "  #TensorFlow in-built function for categorical crossentropy loss\n",
        "  #cce = tf.keras.losses.CategoricalCrossentropy()\n",
        "  #return(cce(Y, Yhat).numpy())\n",
        "\n",
        "def cce_gradient(Y, Yhat):\n",
        "  return(-Y/Yhat)"
      ]
    },
    {
      "cell_type": "markdown",
      "metadata": {
        "id": "jmcNJTjS-BaW"
      },
      "source": [
        "---\n",
        "\n",
        "Generic activation layer class\n",
        "\n",
        "---"
      ]
    },
    {
      "cell_type": "code",
      "execution_count": 8,
      "metadata": {
        "id": "C21FcWIEwGCN"
      },
      "outputs": [],
      "source": [
        "class Activation(Layer):\n",
        "    def __init__(self, activation, activation_gradient):\n",
        "        self.activation = activation\n",
        "        self.activation_gradient = activation_gradient\n",
        "\n",
        "    def forward(self, input):\n",
        "        self.input = input\n",
        "        self.output = self.activation(self.input)\n",
        "        return(self.output)\n",
        "\n",
        "    def backward(self, output_gradient, learning_rate = None):\n",
        "        return(output_gradient[:-1, :] * self.activation_gradient(self.input))"
      ]
    },
    {
      "cell_type": "markdown",
      "metadata": {
        "id": "JheGWSoKxYWu"
      },
      "source": [
        "---\n",
        "\n",
        "Specific activation layer classes\n",
        "\n",
        "---"
      ]
    },
    {
      "cell_type": "code",
      "execution_count": 9,
      "metadata": {
        "id": "PQ5ybz_Yxbef"
      },
      "outputs": [],
      "source": [
        "class Sigmoid(Activation):\n",
        "    def __init__(self):\n",
        "        def sigmoid(z):\n",
        "            return 1 / (1 + np.exp(-z))\n",
        "\n",
        "        def sigmoid_gradient(z):\n",
        "            a = sigmoid(z)\n",
        "            return a * (1 - a)\n",
        "\n",
        "        super().__init__(sigmoid, sigmoid_gradient)\n",
        "\n",
        "class Tanh(Activation):\n",
        "    def __init__(self):\n",
        "        def tanh(z):\n",
        "            return np.tanh(z)\n",
        "\n",
        "        def tanh_gradient(z):\n",
        "            return 1 - np.tanh(z) ** 2\n",
        "\n",
        "        super().__init__(tanh, tanh_gradient)\n",
        "\n",
        "class ReLU(Activation):\n",
        "    def __init__(self):\n",
        "        def relu(z):\n",
        "            return z * (z > 0)\n",
        "\n",
        "        def relu_gradient(z):\n",
        "            return 1. * (z > 0)\n",
        "\n",
        "        super().__init__(relu, relu_gradient)"
      ]
    },
    {
      "cell_type": "markdown",
      "metadata": {
        "id": "LGdr2m2R-It8"
      },
      "source": [
        "---\n",
        "\n",
        "Softmax activation layer class\n",
        "\n",
        "---"
      ]
    },
    {
      "cell_type": "code",
      "execution_count": 10,
      "metadata": {
        "id": "4x1Xn3AbJlNy"
      },
      "outputs": [],
      "source": [
        "## Softmax activation layer class\n",
        "class Softmax(Layer):\n",
        "  def forward(self, input):\n",
        "    self.output = tf.nn.softmax(input, axis = 0).numpy()\n",
        "\n",
        "  def backward(self, output_gradient, learning_rate = None):\n",
        "    ## Following is the inefficient way of calculating the backward gradient\n",
        "    softmax_gradient = np.empty((self.output.shape[0], output_gradient.shape[1]), dtype = np.float64)\n",
        "    for b in range(softmax_gradient.shape[1]):\n",
        "      softmax_gradient[:, b] = np.dot((np.identity(self.output.shape[0])-np.atleast_2d(self.output[:, b])) * np.atleast_2d(self.output[:, b]).T, output_gradient[:, b])\n",
        "\n",
        "    # Return gradient w.r.t. input for backward propagation\n",
        "    return(softmax_gradient)\n",
        "\n",
        "    ## Following is the efficient of calculating the backward gradient\n",
        "    #T = np.transpose(np.identity(self.output.shape[0]) - np.atleast_2d(self.output).T[:, np.newaxis, :], (1, 2, 0)) * np.atleast_2d(self.output)\n",
        "    #return(np.einsum('ijk, ik -> jk', T, output_gradient))"
      ]
    },
    {
      "cell_type": "markdown",
      "metadata": {
        "id": "UKnqi7rf-MBn"
      },
      "source": [
        "---\n",
        "\n",
        "Dense layer class\n",
        "\n",
        "---"
      ]
    },
    {
      "cell_type": "code",
      "execution_count": 11,
      "metadata": {
        "id": "8ctXhZYCTmHK"
      },
      "outputs": [],
      "source": [
        "## Dense layer class\n",
        "class Dense(Layer):\n",
        "    def __init__(self, input_size, output_size):\n",
        "        self.weights = 0.01*np.random.randn(output_size, input_size+1) # bias trick\n",
        "        self.weights[:, -1] = 0.01 # set all bias values to the same nonzero constant\n",
        "\n",
        "    def forward(self, input):\n",
        "        self.input = np.vstack([input, np.ones((1, input.shape[1]))]) # bias trick\n",
        "        self.output= np.dot(self.weights, self.input)\n",
        "\n",
        "    def backward(self, output_gradient, learning_rate):\n",
        "        ## Following is the inefficient way of calculating the gradient w.r.t. weights\n",
        "        weights_gradient = np.zeros((self.output.shape[0], self.input.shape[0]), dtype = np.float64)\n",
        "        for b in range(output_gradient.shape[1]):\n",
        "          weights_gradient += np.dot(output_gradient[:, b].reshape(-1, 1), self.input[:, b].reshape(-1, 1).T)\n",
        "        weights_gradient = (1/output_gradient.shape[1])*weights_gradient\n",
        "\n",
        "        ## Following is the efficient way of calculating the weightsgradient\n",
        "        #weights_gradient = (1/output_gradient.shape[1])*np.dot(np.atleast_2d(output_gradient), np.atleast_2d(self.input).T)\n",
        "\n",
        "        # Gradient w.r.t. the input\n",
        "        input_gradient = np.dot(self.weights.T, output_gradient)\n",
        "\n",
        "        # Update weights using gradient descent step\n",
        "        self.weights = self.weights + learning_rate * (-weights_gradient)\n",
        "\n",
        "        # Return gradient w.r.t. input for backward propagation\n",
        "        return(input_gradient)"
      ]
    },
    {
      "cell_type": "markdown",
      "metadata": {
        "id": "2W1howeOJegI"
      },
      "source": [
        "---\n",
        "\n",
        "Function to generate sample indices for batch processing according to batch size\n",
        "\n",
        "---"
      ]
    },
    {
      "cell_type": "code",
      "execution_count": 12,
      "metadata": {
        "id": "MHyjEf22IRpc"
      },
      "outputs": [],
      "source": [
        "## Function to generate sample indices for batch processing according to batch size\n",
        "def generate_batch_indices(num_samples, batch_size):\n",
        "  # Reorder sample indices\n",
        "  reordered_sample_indices = np.random.choice(num_samples, num_samples, replace = False)\n",
        "  # Generate batch indices for batch processing\n",
        "  batch_indices = np.split(reordered_sample_indices, np.arange(batch_size, len(reordered_sample_indices), batch_size))\n",
        "  return(batch_indices)"
      ]
    },
    {
      "cell_type": "markdown",
      "metadata": {
        "id": "fI_Gms9fJqbs"
      },
      "source": [
        "---\n",
        "\n",
        "Train the 1-hidden layer neural network (128 nodes) using batch training with batch size = 100\n",
        "\n",
        "---"
      ]
    },
    {
      "cell_type": "code",
      "execution_count": 13,
      "metadata": {
        "id": "LGIzrN-rPuI4"
      },
      "outputs": [
        {
          "name": "stdout",
          "output_type": "stream",
          "text": [
            "Epoch 1: loss = 2.298796\n",
            "Epoch 2: loss = 2.290666\n",
            "Epoch 3: loss = 2.278866\n",
            "Epoch 4: loss = 2.260469\n",
            "Epoch 5: loss = 2.231436\n",
            "Epoch 6: loss = 2.186450\n",
            "Epoch 7: loss = 2.119613\n",
            "Epoch 8: loss = 2.026019\n",
            "Epoch 9: loss = 1.904079\n",
            "Epoch 10: loss = 1.758383\n",
            "Epoch 11: loss = 1.600563\n",
            "Epoch 12: loss = 1.445367\n",
            "Epoch 13: loss = 1.304079\n",
            "Epoch 14: loss = 1.181739\n",
            "Epoch 15: loss = 1.078536\n",
            "Epoch 16: loss = 0.992365\n",
            "Epoch 17: loss = 0.920443\n",
            "Epoch 18: loss = 0.860121\n",
            "Epoch 19: loss = 0.809190\n",
            "Epoch 20: loss = 0.765806\n",
            "Epoch 21: loss = 0.728518\n",
            "Epoch 22: loss = 0.696218\n",
            "Epoch 23: loss = 0.667946\n",
            "Epoch 24: loss = 0.643071\n",
            "Epoch 25: loss = 0.620950\n",
            "Epoch 26: loss = 0.601229\n",
            "Epoch 27: loss = 0.583466\n",
            "Epoch 28: loss = 0.567419\n",
            "Epoch 29: loss = 0.552848\n",
            "Epoch 30: loss = 0.539558\n",
            "Epoch 31: loss = 0.527372\n",
            "Epoch 32: loss = 0.516182\n",
            "Epoch 33: loss = 0.505854\n",
            "Epoch 34: loss = 0.496290\n",
            "Epoch 35: loss = 0.487452\n",
            "Epoch 36: loss = 0.479217\n",
            "Epoch 37: loss = 0.471535\n",
            "Epoch 38: loss = 0.464388\n",
            "Epoch 39: loss = 0.457676\n",
            "Epoch 40: loss = 0.451380\n",
            "Epoch 41: loss = 0.445471\n",
            "Epoch 42: loss = 0.439917\n",
            "Epoch 43: loss = 0.434687\n",
            "Epoch 44: loss = 0.429714\n",
            "Epoch 45: loss = 0.425027\n",
            "Epoch 46: loss = 0.420613\n",
            "Epoch 47: loss = 0.416385\n",
            "Epoch 48: loss = 0.412408\n",
            "Epoch 49: loss = 0.408594\n",
            "Epoch 50: loss = 0.404990\n",
            "Epoch 51: loss = 0.401515\n",
            "Epoch 52: loss = 0.398215\n",
            "Epoch 53: loss = 0.395049\n",
            "Epoch 54: loss = 0.392032\n",
            "Epoch 55: loss = 0.389137\n",
            "Epoch 56: loss = 0.386319\n",
            "Epoch 57: loss = 0.383674\n",
            "Epoch 58: loss = 0.381091\n",
            "Epoch 59: loss = 0.378608\n",
            "Epoch 60: loss = 0.376200\n",
            "Epoch 61: loss = 0.373904\n",
            "Epoch 62: loss = 0.371687\n",
            "Epoch 63: loss = 0.369507\n",
            "Epoch 64: loss = 0.367431\n",
            "Epoch 65: loss = 0.365408\n",
            "Epoch 66: loss = 0.363457\n",
            "Epoch 67: loss = 0.361545\n",
            "Epoch 68: loss = 0.359706\n",
            "Epoch 69: loss = 0.357909\n",
            "Epoch 70: loss = 0.356151\n",
            "Epoch 71: loss = 0.354478\n",
            "Epoch 72: loss = 0.352796\n",
            "Epoch 73: loss = 0.351214\n",
            "Epoch 74: loss = 0.349646\n",
            "Epoch 75: loss = 0.348095\n",
            "Epoch 76: loss = 0.346602\n",
            "Epoch 77: loss = 0.345152\n",
            "Epoch 78: loss = 0.343730\n",
            "Epoch 79: loss = 0.342323\n",
            "Epoch 80: loss = 0.340955\n",
            "Epoch 81: loss = 0.339630\n",
            "Epoch 82: loss = 0.338322\n",
            "Epoch 83: loss = 0.337028\n",
            "Epoch 84: loss = 0.335787\n",
            "Epoch 85: loss = 0.334531\n",
            "Epoch 86: loss = 0.333314\n",
            "Epoch 87: loss = 0.332135\n",
            "Epoch 88: loss = 0.330967\n",
            "Epoch 89: loss = 0.329803\n",
            "Epoch 90: loss = 0.328660\n",
            "Epoch 91: loss = 0.327571\n",
            "Epoch 92: loss = 0.326490\n",
            "Epoch 93: loss = 0.325395\n",
            "Epoch 94: loss = 0.324328\n",
            "Epoch 95: loss = 0.323273\n",
            "Epoch 96: loss = 0.322270\n",
            "Epoch 97: loss = 0.321230\n",
            "Epoch 98: loss = 0.320227\n",
            "Epoch 99: loss = 0.319253\n",
            "Epoch 100: loss = 0.318266\n",
            "Epoch 101: loss = 0.317312\n",
            "Epoch 102: loss = 0.316366\n",
            "Epoch 103: loss = 0.315414\n",
            "Epoch 104: loss = 0.314482\n",
            "Epoch 105: loss = 0.313578\n",
            "Epoch 106: loss = 0.312667\n",
            "Epoch 107: loss = 0.311766\n",
            "Epoch 108: loss = 0.310879\n",
            "Epoch 109: loss = 0.310000\n",
            "Epoch 110: loss = 0.309133\n",
            "Epoch 111: loss = 0.308274\n",
            "Epoch 112: loss = 0.307422\n",
            "Epoch 113: loss = 0.306571\n",
            "Epoch 114: loss = 0.305750\n",
            "Epoch 115: loss = 0.304939\n",
            "Epoch 116: loss = 0.304109\n",
            "Epoch 117: loss = 0.303307\n",
            "Epoch 118: loss = 0.302498\n",
            "Epoch 119: loss = 0.301716\n",
            "Epoch 120: loss = 0.300912\n",
            "Epoch 121: loss = 0.300138\n",
            "Epoch 122: loss = 0.299354\n",
            "Epoch 123: loss = 0.298585\n",
            "Epoch 124: loss = 0.297826\n",
            "Epoch 125: loss = 0.297065\n",
            "Epoch 126: loss = 0.296320\n",
            "Epoch 127: loss = 0.295556\n",
            "Epoch 128: loss = 0.294837\n",
            "Epoch 129: loss = 0.294093\n",
            "Epoch 130: loss = 0.293351\n",
            "Epoch 131: loss = 0.292623\n",
            "Epoch 132: loss = 0.291910\n",
            "Epoch 133: loss = 0.291186\n",
            "Epoch 134: loss = 0.290481\n",
            "Epoch 135: loss = 0.289774\n",
            "Epoch 136: loss = 0.289066\n",
            "Epoch 137: loss = 0.288379\n",
            "Epoch 138: loss = 0.287672\n",
            "Epoch 139: loss = 0.286978\n",
            "Epoch 140: loss = 0.286311\n",
            "Epoch 141: loss = 0.285612\n",
            "Epoch 142: loss = 0.284897\n",
            "Epoch 143: loss = 0.284253\n",
            "Epoch 144: loss = 0.283598\n",
            "Epoch 145: loss = 0.282926\n",
            "Epoch 146: loss = 0.282264\n",
            "Epoch 147: loss = 0.281599\n",
            "Epoch 148: loss = 0.280949\n",
            "Epoch 149: loss = 0.280286\n",
            "Epoch 150: loss = 0.279642\n",
            "Epoch 151: loss = 0.278997\n",
            "Epoch 152: loss = 0.278335\n",
            "Epoch 153: loss = 0.277712\n",
            "Epoch 154: loss = 0.277075\n",
            "Epoch 155: loss = 0.276441\n",
            "Epoch 156: loss = 0.275797\n",
            "Epoch 157: loss = 0.275193\n",
            "Epoch 158: loss = 0.274570\n",
            "Epoch 159: loss = 0.273931\n",
            "Epoch 160: loss = 0.273330\n",
            "Epoch 161: loss = 0.272713\n",
            "Epoch 162: loss = 0.272083\n",
            "Epoch 163: loss = 0.271514\n",
            "Epoch 164: loss = 0.270899\n",
            "Epoch 165: loss = 0.270297\n",
            "Epoch 166: loss = 0.269698\n",
            "Epoch 167: loss = 0.269099\n",
            "Epoch 168: loss = 0.268503\n",
            "Epoch 169: loss = 0.267937\n",
            "Epoch 170: loss = 0.267346\n",
            "Epoch 171: loss = 0.266752\n",
            "Epoch 172: loss = 0.266177\n",
            "Epoch 173: loss = 0.265606\n",
            "Epoch 174: loss = 0.265012\n",
            "Epoch 175: loss = 0.264461\n",
            "Epoch 176: loss = 0.263890\n",
            "Epoch 177: loss = 0.263322\n",
            "Epoch 178: loss = 0.262761\n",
            "Epoch 179: loss = 0.262185\n",
            "Epoch 180: loss = 0.261618\n",
            "Epoch 181: loss = 0.261066\n",
            "Epoch 182: loss = 0.260530\n",
            "Epoch 183: loss = 0.259976\n",
            "Epoch 184: loss = 0.259423\n",
            "Epoch 185: loss = 0.258878\n",
            "Epoch 186: loss = 0.258333\n",
            "Epoch 187: loss = 0.257789\n",
            "Epoch 188: loss = 0.257250\n",
            "Epoch 189: loss = 0.256730\n",
            "Epoch 190: loss = 0.256184\n",
            "Epoch 191: loss = 0.255640\n",
            "Epoch 192: loss = 0.255129\n",
            "Epoch 193: loss = 0.254594\n",
            "Epoch 194: loss = 0.254066\n",
            "Epoch 195: loss = 0.253542\n",
            "Epoch 196: loss = 0.253010\n",
            "Epoch 197: loss = 0.252497\n",
            "Epoch 198: loss = 0.251966\n",
            "Epoch 199: loss = 0.251462\n",
            "Epoch 200: loss = 0.250942\n"
          ]
        }
      ],
      "source": [
        "## Train the 1-hidden layer neural network (128 nodes)\n",
        "## using batch training with batch size = 100\n",
        "learning_rate = 1e-3 # learning rate\n",
        "batch_size = 100 # batch size\n",
        "nepochs = 200 # number of epochs\n",
        "loss_epoch = np.empty(nepochs, dtype = np.float64) # create empty array to store losses over each epoch\n",
        "\n",
        "# Neural network architecture\n",
        "\n",
        "dlayer1 = Dense(num_features, 128) # define dense layer 1\n",
        "alayer1 = ReLU() # ReLU activation layer 1\n",
        "dlayer2 = Dense(128, num_labels) # define dense layer 2\n",
        "softmax = Softmax() # define softmax activation layer\n",
        "\n",
        "# Steps: run over each sample in the batch, calculate loss, gradient of loss,\n",
        "# and update weights.\n",
        "\n",
        "epoch = 0\n",
        "while epoch < nepochs:\n",
        "  batch_indices = generate_batch_indices(num_samples, batch_size)\n",
        "  loss = 0\n",
        "  for b in range(len(batch_indices)):\n",
        "    dlayer1.forward(X_train[:, batch_indices[b]]) # forward prop dense layer 1 with batch feature added\n",
        "    alayer1.forward(dlayer1.output) # forward prop activation layer 1\n",
        "    dlayer2.forward(alayer1.output) # forward prop dense layer 2\n",
        "    softmax.forward(dlayer2.output) # Softmax activate\n",
        "    loss += cce(Y_train[:, batch_indices[b]], softmax.output) # calculate loss\n",
        "    # Backward prop starts here\n",
        "    grad = cce_gradient(Y_train[:, batch_indices[b]], softmax.output)\n",
        "    grad = softmax.backward(grad)\n",
        "    grad = dlayer2.backward(grad, learning_rate)\n",
        "    grad = alayer1.backward(grad)\n",
        "    grad = dlayer1.backward(grad, learning_rate)\n",
        "  loss_epoch[epoch] = loss/len(batch_indices)\n",
        "  print('Epoch %d: loss = %f'%(epoch+1, loss_epoch[epoch]))\n",
        "  epoch = epoch + 1"
      ]
    },
    {
      "cell_type": "markdown",
      "metadata": {
        "id": "EhXEFASk-Tkv"
      },
      "source": [
        "---\n",
        "\n",
        "Plot training loss vs. epoch\n",
        "\n",
        "---"
      ]
    },
    {
      "cell_type": "code",
      "execution_count": 14,
      "metadata": {
        "id": "Iv3k23SlCqGf"
      },
      "outputs": [
        {
          "data": {
            "image/png": "[encoded data removed]",
            "text/plain": [
              "<Figure size 640x480 with 1 Axes>"
            ]
          },
          "metadata": {},
          "output_type": "display_data"
        }
      ],
      "source": [
        "# Plot training loss as a function of epoch:\n",
        "plt.plot(loss_epoch)\n",
        "plt.xlabel('Epoch')\n",
        "plt.ylabel('Loss value')\n",
        "plt.show()"
      ]
    },
    {
      "cell_type": "markdown",
      "metadata": {
        "id": "TaLoOOWK-WBj"
      },
      "source": [
        "---\n",
        "\n",
        "Test performance on test data\n",
        "\n",
        "---"
      ]
    },
    {
      "cell_type": "code",
      "execution_count": 15,
      "metadata": {
        "id": "d7AEbmpcKcPY"
      },
      "outputs": [
        {
          "name": "stdout",
          "output_type": "stream",
          "text": [
            "[7 2 1 ... 4 5 6]\n",
            "[7 2 1 ... 4 5 6]\n"
          ]
        },
        {
          "data": {
            "text/plain": [
              "0.9305"
            ]
          },
          "execution_count": 15,
          "metadata": {},
          "output_type": "execute_result"
        }
      ],
      "source": [
        "dlayer1.forward(X_test)\n",
        "alayer1.forward(dlayer1.output)\n",
        "dlayer2.forward(alayer1.output)\n",
        "softmax.forward(dlayer2.output)\n",
        "ypred = np.argmax(softmax.output.T, axis = 1)\n",
        "print(ypred)\n",
        "ytrue = np.argmax(Y_test.T, axis = 1)\n",
        "print(ytrue)\n",
        "np.mean(ytrue == ypred)"
      ]
    }
  ],
  "metadata": {
    "colab": {
      "provenance": []
    },
    "kernelspec": {
      "display_name": "Python 3",
      "name": "python3"
    },
    "language_info": {
      "codemirror_mode": {
        "name": "ipython",
        "version": 3
      },
      "file_extension": ".py",
      "mimetype": "text/x-python",
      "name": "python",
      "nbconvert_exporter": "python",
      "pygments_lexer": "ipython3",
      "version": "3.9.17"
    }
  },
  "nbformat": 4,
  "nbformat_minor": 0
}
